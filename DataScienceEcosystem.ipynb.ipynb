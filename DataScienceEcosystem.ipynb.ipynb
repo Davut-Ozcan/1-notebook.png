{
 "cells": [
  {
   "cell_type": "markdown",
   "id": "e2861946-6027-413d-8349-11856c150c52",
   "metadata": {},
   "source": [
    "<h1>Data Science Tools and Ecosystem<h1\\>"
   ]
  },
  {
   "cell_type": "markdown",
   "id": "b51effbd-2c9f-4dfa-a48e-3cde02f08cc9",
   "metadata": {},
   "source": [
    "In this notebook, Data Science Tools and Ecosystem are summarized."
   ]
  },
  {
   "cell_type": "markdown",
   "id": "9798d79b-6a8d-4be6-84f4-f64a491c5fb6",
   "metadata": {},
   "source": [
    "# Some of the popular languages that Data Scientists use are:\n",
    "1. Python\n",
    "2. R\n",
    "3. SQL\n"
   ]
  },
  {
   "cell_type": "markdown",
   "id": "ddb50195-d4fd-44ce-be0b-ada505ca8451",
   "metadata": {},
   "source": [
    "# Some of the commonly used libraries used by Data Scientists include:\n",
    "1. Pandas\n",
    "2. Numpy\n",
    "3. Matplotlib\n",
    "4. TensorFlow"
   ]
  },
  {
   "cell_type": "markdown",
   "id": "07ab520d-c68f-498d-a06d-8513fb792545",
   "metadata": {},
   "source": [
    "| Data Science Tools |\n",
    "|---------------------|\n",
    "| Jupyter Notebook    |\n",
    "| RStudio             |\n",
    "| Apache Zeppelin     |\n"
   ]
  },
  {
   "cell_type": "markdown",
   "id": "1e712cc6-9f3e-4acf-bcb0-5c0f1246479e",
   "metadata": {},
   "source": [
    "### Below are a few examples of evaluating arithmetic expressions in Python.\n"
   ]
  },
  {
   "cell_type": "code",
   "execution_count": 1,
   "id": "7ef7a27a-ef85-4e88-8e9f-792510c3f3c8",
   "metadata": {},
   "outputs": [
    {
     "data": {
      "text/plain": [
       "17"
      ]
     },
     "execution_count": 1,
     "metadata": {},
     "output_type": "execute_result"
    }
   ],
   "source": [
    "# This is a simple arithmetic expression to multiply then add integers\n",
    "(3 * 4) + 5\n"
   ]
  },
  {
   "cell_type": "code",
   "execution_count": 2,
   "id": "b2d095f0-178e-41f0-ad1b-5e051f347bbb",
   "metadata": {},
   "outputs": [
    {
     "data": {
      "text/plain": [
       "3.3333333333333335"
      ]
     },
     "execution_count": 2,
     "metadata": {},
     "output_type": "execute_result"
    }
   ],
   "source": [
    "# This will convert 200 minutes to hours by dividing by 60\n",
    "200 / 60\n"
   ]
  },
  {
   "cell_type": "markdown",
   "id": "02628ba6-c724-42dd-85aa-8796d3ea8de1",
   "metadata": {},
   "source": [
    "**Objectives:**\n",
    "- List popular languages for Data Science\n",
    "- Identify commonly used libraries in Data Science\n",
    "- Demonstrate arithmetic expressions in Python\n",
    "- Convert units (e.g., minutes to hours) using Python\n",
    "- Explore development environments for Data Science\n"
   ]
  },
  {
   "cell_type": "markdown",
   "id": "84858161-f19b-40c4-8921-63f90289a35b",
   "metadata": {},
   "source": [
    "## Author  \n",
    "Davut Özcan\n"
   ]
  },
  {
   "cell_type": "code",
   "execution_count": null,
   "id": "e131daac-413c-43ba-8e0c-ad53ca507a1a",
   "metadata": {},
   "outputs": [],
   "source": []
  }
 ],
 "metadata": {
  "kernelspec": {
   "display_name": "Python 3 (ipykernel)",
   "language": "python",
   "name": "python3"
  },
  "language_info": {
   "codemirror_mode": {
    "name": "ipython",
    "version": 3
   },
   "file_extension": ".py",
   "mimetype": "text/x-python",
   "name": "python",
   "nbconvert_exporter": "python",
   "pygments_lexer": "ipython3",
   "version": "3.12.8"
  }
 },
 "nbformat": 4,
 "nbformat_minor": 5
}
